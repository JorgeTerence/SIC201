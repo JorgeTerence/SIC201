{
 "cells": [
  {
   "cell_type": "code",
   "execution_count": null,
   "metadata": {},
   "outputs": [],
   "source": [
    "# Print all possible combinations\n",
    "\n",
    "s1 = \"I love, I like\"\n",
    "s2 = \"Pancakes, Orange juice, Coffee\"\n",
    "\n",
    "for start in s1.split(\", \"):\n",
    "    for end in s2.split(\", \"):\n",
    "        print(start, end)"
   ]
  },
  {
   "cell_type": "code",
   "execution_count": null,
   "metadata": {},
   "outputs": [],
   "source": [
    "# Add a 'Dad' key with the value 'Antônio' to the dictionary\n",
    "\n",
    "person = {\"Name\": \"David\", \"Age\": 26, \"Weight\": 82, \"Job\": \"Data scientist\"}\n",
    "\n",
    "person[\"Dad\"] = \"Antônio\"\n",
    "\n",
    "print(person)"
   ]
  },
  {
   "cell_type": "code",
   "execution_count": null,
   "metadata": {},
   "outputs": [],
   "source": [
    "# Move the greatest value to the end of the list without additional variables\n",
    "\n",
    "nums = [5, 6, 3, 9, 2, 12, 3, 8, 7]\n",
    "nums.append(nums.pop(nums.index(max(nums))))\n",
    "\n",
    "print(*nums)"
   ]
  }
 ],
 "metadata": {
  "kernelspec": {
   "display_name": "Python 3.10.5 64-bit",
   "language": "python",
   "name": "python3"
  },
  "language_info": {
   "codemirror_mode": {
    "name": "ipython",
    "version": 3
   },
   "file_extension": ".py",
   "mimetype": "text/x-python",
   "name": "python",
   "nbconvert_exporter": "python",
   "pygments_lexer": "ipython3",
   "version": "3.10.5"
  },
  "orig_nbformat": 4,
  "vscode": {
   "interpreter": {
    "hash": "e7370f93d1d0cde622a1f8e1c04877d8463912d04d973331ad4851f04de6915a"
   }
  }
 },
 "nbformat": 4,
 "nbformat_minor": 2
}
