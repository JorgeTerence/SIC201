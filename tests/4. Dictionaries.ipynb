{
 "cells": [
  {
   "cell_type": "code",
   "execution_count": null,
   "metadata": {},
   "outputs": [],
   "source": [
    "# Flatten the matrix\n",
    "\n",
    "matrix = [[1, 2], [3, 4], [5, 6]]\n",
    "\n",
    "flat = [n for row in matrix for n in row]\n",
    "\n",
    "print(*flat)"
   ]
  },
  {
   "cell_type": "code",
   "execution_count": null,
   "metadata": {},
   "outputs": [],
   "source": [
    "# Calculate the average score\n",
    "\n",
    "maria = {\"Korean\": 94, \"English\": 91, \"Math\": 89, \"Science\": 83}\n",
    "\n",
    "average = sum(maria.values()) / len(maria)\n",
    "\n",
    "print(average)"
   ]
  },
  {
   "cell_type": "code",
   "execution_count": null,
   "metadata": {},
   "outputs": [],
   "source": [
    "# Make a *copy* of a dictionary\n",
    "\n",
    "from copy import deepcopy\n",
    "\n",
    "hero = {\"Korean\": 80, \"English\": 90, \"Math\": 75, \"Science\": 90}\n",
    "\n",
    "kel = deepcopy(hero)\n",
    "\n",
    "if hero is not kel and hero == kel:\n",
    "    print(\"Success!\")"
   ]
  },
  {
   "cell_type": "code",
   "execution_count": null,
   "metadata": {},
   "outputs": [],
   "source": [
    "# Calculate the average of the second subject from the class\n",
    "\n",
    "grades = [\n",
    "    (\"Davi\", 88, 95, 90),\n",
    "    (\"Felipe\", 83, 98, 81),\n",
    "    (\"Luciano\", 81, 97, 98),\n",
    "    (\"Rodrigo\", 82, 89, 83),\n",
    "]\n",
    "\n",
    "average = sum(list(zip(*grades))[2]) / 4"
   ]
  }
 ],
 "metadata": {
  "kernelspec": {
   "display_name": "Python 3.10.5 64-bit",
   "language": "python",
   "name": "python3"
  },
  "language_info": {
   "codemirror_mode": {
    "name": "ipython",
    "version": 3
   },
   "file_extension": ".py",
   "mimetype": "text/x-python",
   "name": "python",
   "nbconvert_exporter": "python",
   "pygments_lexer": "ipython3",
   "version": "3.10.5"
  },
  "orig_nbformat": 4,
  "vscode": {
   "interpreter": {
    "hash": "e7370f93d1d0cde622a1f8e1c04877d8463912d04d973331ad4851f04de6915a"
   }
  }
 },
 "nbformat": 4,
 "nbformat_minor": 2
}
