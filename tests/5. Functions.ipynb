{
 "cells": [
  {
   "cell_type": "code",
   "execution_count": null,
   "metadata": {},
   "outputs": [],
   "source": [
    "from math import sqrt\n",
    "from functools import reduce\n",
    "\n",
    "\n",
    "def edge(a: float, b: float) -> float:\n",
    "    return abs(a - b)\n",
    "\n",
    "\n",
    "def distance2D(p1: tuple[float, float], p2: tuple[float, float]):\n",
    "    dist_x = abs(p1[0] - p2[0])\n",
    "    dist_y = abs(p1[1] - p2[1])\n",
    "    return sqrt(dist_x**2 + dist_y**2)\n",
    "\n",
    "\n",
    "def distance(p1: tuple[float, ...], p2: tuple[float, ...]):\n",
    "    # sides = [reduce(edge, p) for p in zip(p1, p2)]\n",
    "    sides = [reduce(lambda a, b: abs(a - b), p) for p in zip(p1, p2)]\n",
    "    return sqrt(sum(side**2 for side in sides))\n",
    "\n",
    "\n",
    "print(distance((2, 5, 4), (-8, 8, 0)))"
   ]
  },
  {
   "cell_type": "code",
   "execution_count": null,
   "metadata": {},
   "outputs": [],
   "source": [
    "# Tell if a string is a palindrome\n",
    "\n",
    "\n",
    "def is_palindrome(s: str) -> bool:\n",
    "    return s == \"\".join(reversed(s))\n",
    "\n",
    "\n",
    "def is_palindrome_recursive(s: str) -> bool:\n",
    "    return s[0] == s[-1] and is_palindrome_recursive(s[1:-1]) if len(s) > 1 else True\n",
    "\n",
    "print(is_palindrome_recursive(\"hannah\"))\n"
   ]
  },
  {
   "cell_type": "code",
   "execution_count": null,
   "metadata": {},
   "outputs": [],
   "source": [
    "nums = [10, 20, 30]\n",
    "\n",
    "print(\"1x:\", *nums)\n",
    "print(\"2x:\", *map(lambda n: n * 2, nums))\n",
    "print(\"3x:\", *map(lambda n: n * 3, nums))"
   ]
  },
  {
   "cell_type": "code",
   "execution_count": null,
   "metadata": {},
   "outputs": [],
   "source": [
    "v1 = (30, 40)\n",
    "v2 = (10, 20)\n",
    "\n",
    "print(\"v1 * v2 =\", (v1[0].__mul__(v2[0]), v1[1].__mul__(v2[1])))\n",
    "print(\"v1 / v2 =\", (v1[0].__truediv__(v2[0]), v1[1].__truediv__(v2[1])))"
   ]
  }
 ],
 "metadata": {
  "kernelspec": {
   "display_name": "Python 3.10.5 64-bit",
   "language": "python",
   "name": "python3"
  },
  "language_info": {
   "codemirror_mode": {
    "name": "ipython",
    "version": 3
   },
   "file_extension": ".py",
   "mimetype": "text/x-python",
   "name": "python",
   "nbconvert_exporter": "python",
   "pygments_lexer": "ipython3",
   "version": "3.10.5"
  },
  "orig_nbformat": 4,
  "vscode": {
   "interpreter": {
    "hash": "e7370f93d1d0cde622a1f8e1c04877d8463912d04d973331ad4851f04de6915a"
   }
  }
 },
 "nbformat": 4,
 "nbformat_minor": 2
}
