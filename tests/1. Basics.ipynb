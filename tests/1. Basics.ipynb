{
 "cells": [
  {
   "cell_type": "code",
   "execution_count": null,
   "metadata": {},
   "outputs": [],
   "source": [
    "# Print values from 1 to 5 using `print`\n",
    "\n",
    "# Solution 1\n",
    "print(1, 2, 3, 4, 5)\n",
    "\n",
    "# Solution 2\n",
    "print(*range(1, 6))"
   ]
  },
  {
   "cell_type": "code",
   "execution_count": null,
   "metadata": {},
   "outputs": [],
   "source": [
    "# Sum all odd numbers from 1 to 100\n",
    "\n",
    "# Solution 1\n",
    "res = 0\n",
    "\n",
    "for n in range(1, 101, 2):\n",
    "    res += n\n",
    "\n",
    "print(res)\n",
    "\n",
    "# Solution 2\n",
    "print(sum(range(1, 101, 2)))"
   ]
  },
  {
   "cell_type": "code",
   "execution_count": null,
   "metadata": {},
   "outputs": [],
   "source": [
    "# Accept a natural number from the user, then tell them if it's EVEN or ODD\n",
    "\n",
    "def ask_n() -> int:\n",
    "    n = input(\"Enter a positive integer: \")\n",
    "    check = n.isnumeric() and int(n) > 0 and int(n).is_integer()\n",
    "    return int(n) if check else ask_n()\n",
    "\n",
    "num = ask_n()\n",
    "\n",
    "print(num, \"is\", \"odd\" if n % 2 else \"even\")"
   ]
  },
  {
   "cell_type": "code",
   "execution_count": null,
   "metadata": {},
   "outputs": [],
   "source": [
    "# Print decorative line breaks using '*' and '#'\n",
    "\n",
    "print(\"*\" * 10)\n",
    "print(\"#\" * 10)"
   ]
  },
  {
   "cell_type": "code",
   "execution_count": null,
   "metadata": {},
   "outputs": [],
   "source": [
    "# Accept a name and an address, then print those values back\n",
    "\n",
    "name = input(\"Name: \")\n",
    "addr = input(\"Address: \")\n",
    "\n",
    "print(f\"Your name is {name} and you live at {addr}\")"
   ]
  }
 ],
 "metadata": {
  "kernelspec": {
   "display_name": "Python 3.10.5 64-bit",
   "language": "python",
   "name": "python3"
  },
  "language_info": {
   "codemirror_mode": {
    "name": "ipython",
    "version": 3
   },
   "file_extension": ".py",
   "mimetype": "text/x-python",
   "name": "python",
   "nbconvert_exporter": "python",
   "pygments_lexer": "ipython3",
   "version": "3.10.5"
  },
  "vscode": {
   "interpreter": {
    "hash": "e7370f93d1d0cde622a1f8e1c04877d8463912d04d973331ad4851f04de6915a"
   }
  }
 },
 "nbformat": 4,
 "nbformat_minor": 2
}
