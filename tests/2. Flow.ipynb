{
 "cells": [
  {
   "cell_type": "code",
   "execution_count": null,
   "metadata": {},
   "outputs": [],
   "source": [
    "# Print '0', '1', 'False' and 'True' using nothing but the x and y variables and logic operators\n",
    "x = 0\n",
    "y = 1\n",
    "\n",
    "print(x)\n",
    "print(y)\n",
    "print(not y)\n",
    "print(not x)"
   ]
  },
  {
   "cell_type": "code",
   "execution_count": null,
   "metadata": {},
   "outputs": [],
   "source": [
    "# Read 2 values from the user, then print them in ascending order\n",
    "\n",
    "# In two prompts\n",
    "n1 = int(input(\"Value 1: \"))\n",
    "n2 = int(input(\"Value 2: \"))\n",
    "\n",
    "print(*sorted((n1, n2)))\n",
    "\n",
    "# In one prompt (as in example)\n",
    "values = map(int, input(\"Enter two integers: \").split())\n",
    "print(*sorted(values))"
   ]
  },
  {
   "cell_type": "code",
   "execution_count": null,
   "metadata": {},
   "outputs": [],
   "source": [
    "# Ask if the user is an adult and if they are married. Then print the result\n",
    "\n",
    "def ask_bool(msg: str) -> bool:\n",
    "    answer = input(f\"{msg} [Y/n] \").strip().lower()\n",
    "    check = answer in [\"\", \"y\", \"n\", \"yes\", \"no\"]\n",
    "    return answer in \"yes\" if check else ask_bool(msg)\n",
    "\n",
    "is_adult = ask_bool(\"Are you an adult?\")\n",
    "is_married = ask_bool(\"Are you married?\")\n",
    "\n",
    "age = \"an adult\" if is_adult else \"a minor\"\n",
    "status = \"married\" if is_married else \"single\"\n",
    "\n",
    "print(f\"You are {age} and are {status}\")"
   ]
  },
  {
   "cell_type": "code",
   "execution_count": null,
   "metadata": {},
   "outputs": [],
   "source": [
    "# Every number that is not prime is 'composite'. Print the composite numbers from 2 to 12\n",
    "\n",
    "def is_prime(n: int) -> bool:\n",
    "    for d in range(2, n // 2 + 1):\n",
    "        if not n % d:\n",
    "            return False\n",
    "    return True\n",
    "\n",
    "print(*[n for n in range(2, 13) if not is_prime(n)])"
   ]
  },
  {
   "cell_type": "code",
   "execution_count": null,
   "metadata": {},
   "outputs": [],
   "source": [
    "# Find all three-digit Armstrong numbers\n",
    "\n",
    "def is_armstrong(n: int) -> bool:\n",
    "    return n == sum(int(x) ** 3 for x in str(n))\n",
    "\n",
    "print(*filter(is_armstrong, range(100, 1000)))"
   ]
  }
 ],
 "metadata": {
  "kernelspec": {
   "display_name": "Python 3.10.5 64-bit",
   "language": "python",
   "name": "python3"
  },
  "language_info": {
   "codemirror_mode": {
    "name": "ipython",
    "version": 3
   },
   "file_extension": ".py",
   "mimetype": "text/x-python",
   "name": "python",
   "nbconvert_exporter": "python",
   "pygments_lexer": "ipython3",
   "version": "3.10.5"
  },
  "vscode": {
   "interpreter": {
    "hash": "e7370f93d1d0cde622a1f8e1c04877d8463912d04d973331ad4851f04de6915a"
   }
  }
 },
 "nbformat": 4,
 "nbformat_minor": 2
}
