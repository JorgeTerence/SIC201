{
 "cells": [
  {
   "cell_type": "code",
   "execution_count": null,
   "metadata": {},
   "outputs": [],
   "source": [
    "s1 = [\"Eu amo\", \"Eu gosto de\"]\n",
    "s2 = [\"Panqueca\", \"Suco de laranja\", \"Café\"]\n",
    "\n",
    "for intro in s1:\n",
    "    for breakfast in s2:\n",
    "        print(intro, breakfast)"
   ]
  },
  {
   "cell_type": "code",
   "execution_count": null,
   "metadata": {},
   "outputs": [],
   "source": [
    "l = [5, 6, 3, 9, 2, 12, 3, 8, 7]\n",
    "\n",
    "l.append(l.pop(l.index(max(l))))\n",
    "\n",
    "print(l)"
   ]
  },
  {
   "cell_type": "code",
   "execution_count": null,
   "metadata": {},
   "outputs": [],
   "source": [
    "matrix = [[1, 2], [3, 4], [5, 6]]\n",
    "\n",
    "flattened = [n for l in matrix for n in l]\n",
    "\n",
    "print(flattened)\n"
   ]
  },
  {
   "cell_type": "code",
   "execution_count": null,
   "metadata": {},
   "outputs": [],
   "source": [
    "scores = {\"Korean\": 94, \"English\": 91, \"Math\": 89, \"Science\": 83}\n",
    "\n",
    "average = sum(scores.values()) / len(scores)\n",
    "\n",
    "print(average)"
   ]
  },
  {
   "cell_type": "code",
   "execution_count": null,
   "metadata": {},
   "outputs": [],
   "source": [
    "from copy import deepcopy\n",
    "\n",
    "school = {\n",
    "    \"kim\": {\"age\": 16, \"hei\": 170, \"grade\": 3},\n",
    "    \"lee\": {\"age\": 15, \"hei\": 168, \"grade\": 2},\n",
    "    \"choi\": {\"age\": 14, \"hei\": 173, \"grade\": 1},\n",
    "}\n",
    "\n",
    "school2 = deepcopy(school)\n",
    "\n",
    "if school is not school2:\n",
    "    print(\"Success!\")\n"
   ]
  },
  {
   "cell_type": "code",
   "execution_count": null,
   "metadata": {},
   "outputs": [],
   "source": [
    "grades = (\n",
    "    (\"Davi\", 88, 95, 90),\n",
    "    (\"Felipe\", 83, 98, 81),\n",
    "    (\"Luciano\", 81, 97, 98),\n",
    "    (\"Rodrigo\", 82, 89, 83),\n",
    ")\n",
    "\n",
    "math_average = sum(list(zip(*grades))[2])"
   ]
  }
 ],
 "metadata": {
  "kernelspec": {
   "display_name": "Python 3.10.5 64-bit",
   "language": "python",
   "name": "python3"
  },
  "language_info": {
   "codemirror_mode": {
    "name": "ipython",
    "version": 3
   },
   "file_extension": ".py",
   "mimetype": "text/x-python",
   "name": "python",
   "nbconvert_exporter": "python",
   "pygments_lexer": "ipython3",
   "version": "3.10.5"
  },
  "vscode": {
   "interpreter": {
    "hash": "e7370f93d1d0cde622a1f8e1c04877d8463912d04d973331ad4851f04de6915a"
   }
  }
 },
 "nbformat": 4,
 "nbformat_minor": 2
}
