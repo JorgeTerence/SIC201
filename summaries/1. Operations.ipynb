{
 "cells": [
  {
   "cell_type": "code",
   "execution_count": null,
   "metadata": {},
   "outputs": [],
   "source": [
    "# Mathematical operations\n",
    "\n",
    "print(8 + 2)\n",
    "print(8 - 2)\n",
    "print(8 * 2)\n",
    "print(8 / 2)\n",
    "print(8 ** 2)\n",
    "print(11 // 3)\n",
    "print(11 % 3)"
   ]
  },
  {
   "cell_type": "code",
   "execution_count": null,
   "metadata": {},
   "outputs": [],
   "source": [
    "# Data types\n",
    "\n",
    "print(type(\"hello\"))\n",
    "print(type(str(10)))\n",
    "\n",
    "print(type(1))\n",
    "print(type(1 + 2))\n",
    "\n",
    "print(type(3.5))\n",
    "print(type(12 / 5))\n",
    "\n",
    "print(type(True))\n",
    "print(type(1 + 2 == 3))\n",
    "\n",
    "print(type([1, 2, 3]))\n",
    "\n",
    "print(type(None))"
   ]
  },
  {
   "cell_type": "code",
   "execution_count": null,
   "metadata": {},
   "outputs": [],
   "source": [
    "# String operations\n",
    "\n",
    "name = \"Kate\"\n",
    "age = 17\n",
    "friend = \"Amanda\"\n",
    "cat = \"Nicolau\"\n",
    "\n",
    "print(\"My name is\", name, \"and I'm\", age)\n",
    "print(\"My best friend is \" + friend)\n",
    "print(\"{}'s name starts with '{}'\".format(friend, friend[0]))\n",
    "print(f\"I have a cat named {cat}\")\n",
    "print(\"I\" + \" really\" * 4 + \" love him!\")"
   ]
  },
  {
   "cell_type": "code",
   "execution_count": null,
   "metadata": {},
   "outputs": [],
   "source": [
    "# Escape sequences\n",
    "\n",
    "print(\"How do you spell \\\"queue\\\"?\")\n",
    "print(\"Just\\tgive\\tme\\tsome\\tspace\\t!\")\n",
    "print(\" /| ､\\n(°､ ｡ 7\\n |､  ~ヽ\\n じしf_,)〳\")"
   ]
  },
  {
   "cell_type": "code",
   "execution_count": null,
   "metadata": {},
   "outputs": [],
   "source": [
    "# User input and variables\n",
    "\n",
    "name = input(\"What's your name? \")\n",
    "\n",
    "print(f\"Hello, {name}! Nice to meet you!\")"
   ]
  }
 ],
 "metadata": {
  "kernelspec": {
   "display_name": "Python 3.10.5 64-bit",
   "language": "python",
   "name": "python3"
  },
  "language_info": {
   "codemirror_mode": {
    "name": "ipython",
    "version": 3
   },
   "file_extension": ".py",
   "mimetype": "text/x-python",
   "name": "python",
   "nbconvert_exporter": "python",
   "pygments_lexer": "ipython3",
   "version": "3.10.5"
  },
  "vscode": {
   "interpreter": {
    "hash": "e7370f93d1d0cde622a1f8e1c04877d8463912d04d973331ad4851f04de6915a"
   }
  }
 },
 "nbformat": 4,
 "nbformat_minor": 2
}
